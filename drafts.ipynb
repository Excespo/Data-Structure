{
 "cells": [
  {
   "cell_type": "code",
   "execution_count": 7,
   "source": [
    "class Stu:\n",
    "    def __init__(self, age, name):\n",
    "        self.age = age\n",
    "        self.__name = name\n",
    "    \n",
    "    def show(self):\n",
    "        print(\"Student name is\", self.__name, \", age is\",self.age)\n",
    "\n",
    "me = Stu(20, \"Uly\")\n",
    "me.show()\n",
    "me.__name = \"Amb\"\n",
    "me.show()\n",
    "me._Stu__name = \"Amb\" # visit a private variable\n",
    "me.show()"
   ],
   "outputs": [
    {
     "output_type": "stream",
     "name": "stdout",
     "text": [
      "Student name is Uly , age is 20\n",
      "Student name is Uly , age is 20\n",
      "Student name is Amb , age is 20\n"
     ]
    }
   ],
   "metadata": {}
  },
  {
   "cell_type": "code",
   "execution_count": null,
   "source": [],
   "outputs": [],
   "metadata": {}
  }
 ],
 "metadata": {
  "orig_nbformat": 4,
  "language_info": {
   "name": "python",
   "version": "3.9.2",
   "mimetype": "text/x-python",
   "codemirror_mode": {
    "name": "ipython",
    "version": 3
   },
   "pygments_lexer": "ipython3",
   "nbconvert_exporter": "python",
   "file_extension": ".py"
  },
  "kernelspec": {
   "name": "python3",
   "display_name": "Python 3.9.2 64-bit ('base': conda)"
  },
  "interpreter": {
   "hash": "dca0ade3e726a953b501b15e8e990130d2b7799f14cfd9f4271676035ebe5511"
  }
 },
 "nbformat": 4,
 "nbformat_minor": 2
}